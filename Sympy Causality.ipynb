{
 "cells": [
  {
   "cell_type": "code",
   "execution_count": 2,
   "id": "1fdd21af",
   "metadata": {},
   "outputs": [],
   "source": [
    "from sympy import *\n",
    "import numpy as np\n",
    "import matplotlib.pyplot as plt\n"
   ]
  },
  {
   "cell_type": "code",
   "execution_count": 4,
   "id": "024c5aa2",
   "metadata": {},
   "outputs": [],
   "source": [
    "# simple van der Pol example\n",
    "# assume that coeff are the estimated coefficients\n",
    "coeff = np.zeros(19) # 1 noise, \n",
    "    # x, y, xx, xy, yy, xxx, xxy, xyy, yyy for dx/dt and dy/dt\n",
    "coeff[0] = 0.05 # noise\n",
    "coeff[1] = 0.11\n",
    "coeff[2] = 1.1  #true\n",
    "coeff[4] = -0.15 \n",
    "coeff[10] = -0.95 #true\n",
    "coeff[11] = 1.9 #true\n",
    "coeff[14] = 0.12\n",
    "coeff[16] = -2.1 #true"
   ]
  },
  {
   "cell_type": "code",
   "execution_count": 5,
   "id": "613b9fb7",
   "metadata": {},
   "outputs": [],
   "source": [
    "# approximate range of values\n",
    "xmin = -2\n",
    "xmax = 2\n",
    "ymin = -4\n",
    "ymax = 4"
   ]
  },
  {
   "cell_type": "code",
   "execution_count": 7,
   "id": "12a0d00f",
   "metadata": {},
   "outputs": [],
   "source": [
    "x, y = symbols(\"x y\")"
   ]
  },
  {
   "cell_type": "code",
   "execution_count": 10,
   "id": "001e1c26",
   "metadata": {},
   "outputs": [
    {
     "name": "stdout",
     "output_type": "stream",
     "text": [
      " 2\n",
      "y \n"
     ]
    }
   ],
   "source": [
    "yy = y**2\n"
   ]
  },
  {
   "cell_type": "code",
   "execution_count": 14,
   "id": "172d6f33",
   "metadata": {},
   "outputs": [
    {
     "data": {
      "text/plain": [
       "array([ 0.11,  1.1 ,  0.  , -0.15,  0.  ,  0.  ,  0.  ,  0.  ,  0.  ])"
      ]
     },
     "execution_count": 14,
     "metadata": {},
     "output_type": "execute_result"
    }
   ],
   "source": [
    "coeff[1:].reshape(2,-1)[0]"
   ]
  },
  {
   "cell_type": "code",
   "execution_count": null,
   "id": "d162f026",
   "metadata": {},
   "outputs": [],
   "source": []
  },
  {
   "cell_type": "code",
   "execution_count": 22,
   "id": "24f3b376",
   "metadata": {},
   "outputs": [
    {
     "name": "stdout",
     "output_type": "stream",
     "text": [
      "x\n",
      "y\n",
      "x**2\n",
      "x*y\n",
      "y**2\n",
      "x**3\n",
      "x**2*y\n",
      "x*y**2\n",
      "y**3\n"
     ]
    }
   ],
   "source": [
    "# compute the Drift of x\n",
    "D1x = Integer(0)\n",
    "sigma_x = (coeff[1:].reshape(2,-1))[0]\n",
    "Poly = list([x, y])\n",
    "Dim = 2\n",
    "CoeffIndex = 0\n",
    "\n",
    "for i in range(Dim): # linear\n",
    "    print(Poly[i])\n",
    "    D1x += sigma_x[CoeffIndex]*Poly[i]\n",
    "    CoeffIndex +=1\n",
    "\n",
    "for i in range(Dim): # quadratic\n",
    "    for j in range(i,Dim):\n",
    "        print(Poly[i]*Poly[j])\n",
    "        D1x += sigma_x[CoeffIndex]*Poly[i]*Poly[j]\n",
    "        CoeffIndex +=1\n",
    "for i in range(Dim): # cubic\n",
    "    for j in range(i,Dim):\n",
    "        for k in range(j,Dim):\n",
    "            print(Poly[i]*Poly[j]*Poly[k])\n",
    "            D1x += sigma_x[CoeffIndex]*Poly[i]*Poly[j]*Poly[k]\n",
    "            CoeffIndex +=1"
   ]
  },
  {
   "cell_type": "code",
   "execution_count": 23,
   "id": "f54ecb56",
   "metadata": {},
   "outputs": [
    {
     "data": {
      "text/latex": [
       "$\\displaystyle - 0.15 x y + 0.11 x + 1.1 y$"
      ],
      "text/plain": [
       "-0.15*x*y + 0.11*x + 1.1*y"
      ]
     },
     "execution_count": 23,
     "metadata": {},
     "output_type": "execute_result"
    }
   ],
   "source": [
    "D1x"
   ]
  },
  {
   "cell_type": "code",
   "execution_count": 26,
   "id": "ddfd54c3",
   "metadata": {
    "scrolled": true
   },
   "outputs": [
    {
     "name": "stdout",
     "output_type": "stream",
     "text": [
      "x\n",
      "y\n",
      "x**2\n",
      "x*y\n",
      "y**2\n",
      "x**3\n",
      "x**2*y\n",
      "x*y**2\n",
      "y**3\n"
     ]
    },
    {
     "data": {
      "text/latex": [
       "$\\displaystyle - 2.1 x^{2} y - 0.95 x + 0.12 y^{2} + 1.9 y$"
      ],
      "text/plain": [
       "-2.1*x**2*y - 0.95*x + 0.12*y**2 + 1.9*y"
      ]
     },
     "execution_count": 26,
     "metadata": {},
     "output_type": "execute_result"
    }
   ],
   "source": [
    "# compute the Drift of x\n",
    "D1y = Integer(0)\n",
    "sigma_y = (coeff[1:].reshape(2,-1))[1]\n",
    "Poly = list([x, y])\n",
    "Dim = 2\n",
    "CoeffIndex = 0\n",
    "\n",
    "for i in range(Dim): # linear\n",
    "    print(Poly[i])\n",
    "    D1y += sigma_y[CoeffIndex]*Poly[i]\n",
    "    CoeffIndex +=1\n",
    "\n",
    "for i in range(Dim): # quadratic\n",
    "    for j in range(i,Dim):\n",
    "        print(Poly[i]*Poly[j])\n",
    "        D1y += sigma_y[CoeffIndex]*Poly[i]*Poly[j]\n",
    "        CoeffIndex +=1\n",
    "for i in range(Dim): # cubic\n",
    "    for j in range(i,Dim):\n",
    "        for k in range(j,Dim):\n",
    "            print(Poly[i]*Poly[j]*Poly[k])\n",
    "            D1y += sigma_y[CoeffIndex]*Poly[i]*Poly[j]*Poly[k]\n",
    "            CoeffIndex +=1\n",
    "D1y.simplify()"
   ]
  },
  {
   "cell_type": "code",
   "execution_count": 27,
   "id": "b783be54",
   "metadata": {},
   "outputs": [
    {
     "data": {
      "text/plain": [
       "2"
      ]
     },
     "execution_count": 27,
     "metadata": {},
     "output_type": "execute_result"
    }
   ],
   "source": [
    "len(Poly)"
   ]
  },
  {
   "cell_type": "code",
   "execution_count": 28,
   "id": "f5aaaeea",
   "metadata": {},
   "outputs": [],
   "source": [
    "def GetPoly(List, Coeff, Constant = False):\n",
    "    # takes List of (linear) base functions [x1, x2, x3,..] and \n",
    "    # their polynomial coefficients Coeff of third order\n",
    "    # returns a sympy polynomial\n",
    "    # if Constant = True: the first Coeff[0] is used as constant\n",
    "    \n",
    "    Out = Integer(0)\n",
    "    Index = 0 # iterating over the Coefficients\n",
    "    Dim = len(List)\n",
    "    \n",
    "    if Constant:\n",
    "        Out += Coeff[Index]\n",
    "        Index +=1\n",
    "    \n",
    "    for i in range(Dim): # linear\n",
    "        Out += Coeff[Index] * List[i]\n",
    "        Index +=1\n",
    "    \n",
    "    for i in range(Dim): # quadratic\n",
    "        for j in range(i,Dim):\n",
    "            Out +=Coeff[Index] * List[i] * List[j]\n",
    "            Index +=1\n",
    "            \n",
    "    for i in range(Dim): # cubic\n",
    "        for j in range(i,Dim):\n",
    "            for k in range(j,Dim):\n",
    "                Out += Coeff[Index] * List[i] * List[j] * List[k]\n",
    "                Index +=1\n",
    "    return(Out)"
   ]
  },
  {
   "cell_type": "code",
   "execution_count": 37,
   "id": "15925d29",
   "metadata": {},
   "outputs": [
    {
     "data": {
      "text/latex": [
       "$\\displaystyle - 0.15 x y + 0.11 x + 1.1 y$"
      ],
      "text/plain": [
       "-0.15*x*y + 0.11*x + 1.1*y"
      ]
     },
     "execution_count": 37,
     "metadata": {},
     "output_type": "execute_result"
    }
   ],
   "source": [
    "Polyx = GetPoly(Poly, sigma_x)\n",
    "Polyx"
   ]
  },
  {
   "cell_type": "code",
   "execution_count": 34,
   "id": "6609297e",
   "metadata": {},
   "outputs": [
    {
     "data": {
      "text/latex": [
       "$\\displaystyle 2.01$"
      ],
      "text/plain": [
       "2.01000000000000"
      ]
     },
     "execution_count": 34,
     "metadata": {},
     "output_type": "execute_result"
    }
   ],
   "source": [
    "Polyx.subs({x:1, y:2})"
   ]
  },
  {
   "cell_type": "code",
   "execution_count": 35,
   "id": "9ef11e59",
   "metadata": {},
   "outputs": [
    {
     "data": {
      "text/latex": [
       "$\\displaystyle 0$"
      ],
      "text/plain": [
       "0"
      ]
     },
     "execution_count": 35,
     "metadata": {},
     "output_type": "execute_result"
    }
   ],
   "source": [
    "integrate(Polyx,\n",
    "          (x, xmin, xmax), \n",
    "          (y, ymin,ymax))"
   ]
  },
  {
   "cell_type": "code",
   "execution_count": 40,
   "id": "b2921e47",
   "metadata": {},
   "outputs": [],
   "source": [
    "m_Polyx_x =  integrate(Polyx, # maringalised over x\n",
    "                      (x, xmin, xmax)) / (xmax-xmin)\n",
    "m_Polyx_y =  integrate(Polyx, # maringalised over y\n",
    "                      (y, ymin, ymax)) / (ymax-ymin)"
   ]
  },
  {
   "cell_type": "code",
   "execution_count": 41,
   "id": "7cbcc72d",
   "metadata": {},
   "outputs": [
    {
     "data": {
      "text/plain": [
       "(1.1*y, 0.11*x)"
      ]
     },
     "execution_count": 41,
     "metadata": {},
     "output_type": "execute_result"
    }
   ],
   "source": [
    "m_Polyx_x, m_Polyx_y"
   ]
  },
  {
   "cell_type": "code",
   "execution_count": 44,
   "id": "3d516737",
   "metadata": {},
   "outputs": [
    {
     "data": {
      "text/latex": [
       "$\\displaystyle 0.0225 \\left(- x y + 0.733333333333333 x\\right)^{2}$"
      ],
      "text/plain": [
       "0.0225*(-x*y + 0.733333333333333*x)**2"
      ]
     },
     "execution_count": 44,
     "metadata": {},
     "output_type": "execute_result"
    }
   ],
   "source": [
    "(Polyx - m_Polyx_x)**2"
   ]
  },
  {
   "cell_type": "code",
   "execution_count": 48,
   "id": "71fab584",
   "metadata": {},
   "outputs": [],
   "source": [
    "Causal_Polyx_x = integrate((Polyx - m_Polyx_x)**2, \n",
    "                          (x, xmin, xmax),\n",
    "                           (y, ymin, ymax))\n",
    "Causal_Polyx_y = integrate((Polyx - m_Polyx_y)**2, \n",
    "                          (x, xmin, xmax),\n",
    "                           (y, ymin, ymax))"
   ]
  },
  {
   "cell_type": "code",
   "execution_count": 49,
   "id": "03e5153a",
   "metadata": {},
   "outputs": [
    {
     "name": "stdout",
     "output_type": "stream",
     "text": [
      "5.63626666666667 211.626666666667\n"
     ]
    }
   ],
   "source": [
    "print(Causal_Polyx_x, Causal_Polyx_y)"
   ]
  },
  {
   "cell_type": "code",
   "execution_count": 50,
   "id": "f7bff1f4",
   "metadata": {},
   "outputs": [
    {
     "data": {
      "text/plain": [
       "32"
      ]
     },
     "execution_count": 50,
     "metadata": {},
     "output_type": "execute_result"
    }
   ],
   "source": [
    "(xmax-xmin)*(ymax-ymin)"
   ]
  }
 ],
 "metadata": {
  "kernelspec": {
   "display_name": "Python 3 (ipykernel)",
   "language": "python",
   "name": "python3"
  },
  "language_info": {
   "codemirror_mode": {
    "name": "ipython",
    "version": 3
   },
   "file_extension": ".py",
   "mimetype": "text/x-python",
   "name": "python",
   "nbconvert_exporter": "python",
   "pygments_lexer": "ipython3",
   "version": "3.7.3"
  }
 },
 "nbformat": 4,
 "nbformat_minor": 5
}

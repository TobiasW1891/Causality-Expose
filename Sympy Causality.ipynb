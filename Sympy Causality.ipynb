{
 "cells": [
  {
   "cell_type": "code",
   "execution_count": 76,
   "id": "1fdd21af",
   "metadata": {},
   "outputs": [],
   "source": [
    "from sympy import *\n",
    "import numpy as np\n",
    "import matplotlib.pyplot as plt\n",
    "import pandas as pd"
   ]
  },
  {
   "cell_type": "code",
   "execution_count": 2,
   "id": "024c5aa2",
   "metadata": {},
   "outputs": [],
   "source": [
    "# simple van der Pol example\n",
    "# assume that coeff are the estimated coefficients\n",
    "coeff = np.zeros(19) # 1 noise, \n",
    "    # x, y, xx, xy, yy, xxx, xxy, xyy, yyy for dx/dt and dy/dt\n",
    "coeff[0] = 0.05 # noise\n",
    "coeff[1] = 0.11\n",
    "coeff[2] = 1.1  #true\n",
    "coeff[4] = -0.15 \n",
    "coeff[10] = -0.95 #true\n",
    "coeff[11] = 1.9 #true\n",
    "coeff[14] = 0.12\n",
    "coeff[16] = -2.1 #true"
   ]
  },
  {
   "cell_type": "code",
   "execution_count": 3,
   "id": "613b9fb7",
   "metadata": {},
   "outputs": [],
   "source": [
    "# approximate range of values\n",
    "xmin = -2\n",
    "xmax = 2\n",
    "ymin = -4\n",
    "ymax = 4"
   ]
  },
  {
   "cell_type": "code",
   "execution_count": 4,
   "id": "12a0d00f",
   "metadata": {},
   "outputs": [],
   "source": [
    "x, y = symbols(\"x y\")"
   ]
  },
  {
   "cell_type": "code",
   "execution_count": 5,
   "id": "001e1c26",
   "metadata": {},
   "outputs": [],
   "source": [
    "yy = y**2\n"
   ]
  },
  {
   "cell_type": "code",
   "execution_count": 6,
   "id": "172d6f33",
   "metadata": {},
   "outputs": [
    {
     "data": {
      "text/plain": [
       "array([ 0.11,  1.1 ,  0.  , -0.15,  0.  ,  0.  ,  0.  ,  0.  ,  0.  ])"
      ]
     },
     "execution_count": 6,
     "metadata": {},
     "output_type": "execute_result"
    }
   ],
   "source": [
    "coeff[1:].reshape(2,-1)[0]"
   ]
  },
  {
   "cell_type": "code",
   "execution_count": null,
   "id": "d162f026",
   "metadata": {},
   "outputs": [],
   "source": []
  },
  {
   "cell_type": "code",
   "execution_count": 7,
   "id": "24f3b376",
   "metadata": {},
   "outputs": [
    {
     "name": "stdout",
     "output_type": "stream",
     "text": [
      "x\n",
      "y\n",
      "x**2\n",
      "x*y\n",
      "y**2\n",
      "x**3\n",
      "x**2*y\n",
      "x*y**2\n",
      "y**3\n"
     ]
    }
   ],
   "source": [
    "# compute the Drift of x\n",
    "D1x = Integer(0)\n",
    "sigma_x = (coeff[1:].reshape(2,-1))[0]\n",
    "Poly = list([x, y])\n",
    "Dim = 2\n",
    "CoeffIndex = 0\n",
    "\n",
    "for i in range(Dim): # linear\n",
    "    print(Poly[i])\n",
    "    D1x += sigma_x[CoeffIndex]*Poly[i]\n",
    "    CoeffIndex +=1\n",
    "\n",
    "for i in range(Dim): # quadratic\n",
    "    for j in range(i,Dim):\n",
    "        print(Poly[i]*Poly[j])\n",
    "        D1x += sigma_x[CoeffIndex]*Poly[i]*Poly[j]\n",
    "        CoeffIndex +=1\n",
    "for i in range(Dim): # cubic\n",
    "    for j in range(i,Dim):\n",
    "        for k in range(j,Dim):\n",
    "            print(Poly[i]*Poly[j]*Poly[k])\n",
    "            D1x += sigma_x[CoeffIndex]*Poly[i]*Poly[j]*Poly[k]\n",
    "            CoeffIndex +=1"
   ]
  },
  {
   "cell_type": "code",
   "execution_count": 8,
   "id": "f54ecb56",
   "metadata": {},
   "outputs": [
    {
     "data": {
      "text/latex": [
       "$\\displaystyle - 0.15 x y + 0.11 x + 1.1 y$"
      ],
      "text/plain": [
       "-0.15*x*y + 0.11*x + 1.1*y"
      ]
     },
     "execution_count": 8,
     "metadata": {},
     "output_type": "execute_result"
    }
   ],
   "source": [
    "D1x"
   ]
  },
  {
   "cell_type": "code",
   "execution_count": 9,
   "id": "ddfd54c3",
   "metadata": {
    "scrolled": true
   },
   "outputs": [
    {
     "name": "stdout",
     "output_type": "stream",
     "text": [
      "x\n",
      "y\n",
      "x**2\n",
      "x*y\n",
      "y**2\n",
      "x**3\n",
      "x**2*y\n",
      "x*y**2\n",
      "y**3\n"
     ]
    },
    {
     "data": {
      "text/latex": [
       "$\\displaystyle - 2.1 x^{2} y - 0.95 x + 0.12 y^{2} + 1.9 y$"
      ],
      "text/plain": [
       "-2.1*x**2*y - 0.95*x + 0.12*y**2 + 1.9*y"
      ]
     },
     "execution_count": 9,
     "metadata": {},
     "output_type": "execute_result"
    }
   ],
   "source": [
    "# compute the Drift of x\n",
    "D1y = Integer(0)\n",
    "sigma_y = (coeff[1:].reshape(2,-1))[1]\n",
    "Poly = list([x, y])\n",
    "Dim = 2\n",
    "CoeffIndex = 0\n",
    "\n",
    "for i in range(Dim): # linear\n",
    "    print(Poly[i])\n",
    "    D1y += sigma_y[CoeffIndex]*Poly[i]\n",
    "    CoeffIndex +=1\n",
    "\n",
    "for i in range(Dim): # quadratic\n",
    "    for j in range(i,Dim):\n",
    "        print(Poly[i]*Poly[j])\n",
    "        D1y += sigma_y[CoeffIndex]*Poly[i]*Poly[j]\n",
    "        CoeffIndex +=1\n",
    "for i in range(Dim): # cubic\n",
    "    for j in range(i,Dim):\n",
    "        for k in range(j,Dim):\n",
    "            print(Poly[i]*Poly[j]*Poly[k])\n",
    "            D1y += sigma_y[CoeffIndex]*Poly[i]*Poly[j]*Poly[k]\n",
    "            CoeffIndex +=1\n",
    "D1y.simplify()"
   ]
  },
  {
   "cell_type": "code",
   "execution_count": 10,
   "id": "b783be54",
   "metadata": {},
   "outputs": [
    {
     "data": {
      "text/plain": [
       "2"
      ]
     },
     "execution_count": 10,
     "metadata": {},
     "output_type": "execute_result"
    }
   ],
   "source": [
    "len(Poly)"
   ]
  },
  {
   "cell_type": "code",
   "execution_count": 11,
   "id": "f5aaaeea",
   "metadata": {},
   "outputs": [],
   "source": [
    "def GetPoly(List, Coeff, Constant = False):\n",
    "    # takes List of (linear) base functions [x1, x2, x3,..] and \n",
    "    # their polynomial coefficients Coeff of third order\n",
    "    # returns a sympy polynomial\n",
    "    # if Constant = True: the first Coeff[0] is used as constant\n",
    "    \n",
    "    Out = Integer(0)\n",
    "    Index = 0 # iterating over the Coefficients\n",
    "    Dim = len(List)\n",
    "    \n",
    "    if Constant:\n",
    "        Out += Coeff[Index]\n",
    "        Index +=1\n",
    "    \n",
    "    for i in range(Dim): # linear\n",
    "        Out += Coeff[Index] * List[i]\n",
    "        Index +=1\n",
    "    \n",
    "    for i in range(Dim): # quadratic\n",
    "        for j in range(i,Dim):\n",
    "            Out +=Coeff[Index] * List[i] * List[j]\n",
    "            Index +=1\n",
    "            \n",
    "    for i in range(Dim): # cubic\n",
    "        for j in range(i,Dim):\n",
    "            for k in range(j,Dim):\n",
    "                Out += Coeff[Index] * List[i] * List[j] * List[k]\n",
    "                Index +=1\n",
    "    return(Out)"
   ]
  },
  {
   "cell_type": "markdown",
   "id": "320113bc",
   "metadata": {},
   "source": [
    "### For dx/dt"
   ]
  },
  {
   "cell_type": "code",
   "execution_count": 12,
   "id": "15925d29",
   "metadata": {},
   "outputs": [
    {
     "data": {
      "text/latex": [
       "$\\displaystyle - 0.15 x y + 0.11 x + 1.1 y$"
      ],
      "text/plain": [
       "-0.15*x*y + 0.11*x + 1.1*y"
      ]
     },
     "execution_count": 12,
     "metadata": {},
     "output_type": "execute_result"
    }
   ],
   "source": [
    "Polyx = GetPoly(Poly, sigma_x)\n",
    "Polyx"
   ]
  },
  {
   "cell_type": "code",
   "execution_count": 13,
   "id": "6609297e",
   "metadata": {},
   "outputs": [
    {
     "data": {
      "text/latex": [
       "$\\displaystyle 2.01$"
      ],
      "text/plain": [
       "2.01000000000000"
      ]
     },
     "execution_count": 13,
     "metadata": {},
     "output_type": "execute_result"
    }
   ],
   "source": [
    "Polyx.subs({x:1, y:2})"
   ]
  },
  {
   "cell_type": "code",
   "execution_count": 14,
   "id": "9ef11e59",
   "metadata": {},
   "outputs": [
    {
     "data": {
      "text/latex": [
       "$\\displaystyle 0$"
      ],
      "text/plain": [
       "0"
      ]
     },
     "execution_count": 14,
     "metadata": {},
     "output_type": "execute_result"
    }
   ],
   "source": [
    "integrate(Polyx,\n",
    "          (x, xmin, xmax), \n",
    "          (y, ymin,ymax))"
   ]
  },
  {
   "cell_type": "code",
   "execution_count": 15,
   "id": "b2921e47",
   "metadata": {},
   "outputs": [],
   "source": [
    "m_Polyx_x =  integrate(Polyx, # maringalised over x\n",
    "                      (x, xmin, xmax)) / (xmax-xmin)\n",
    "m_Polyx_y =  integrate(Polyx, # maringalised over y\n",
    "                      (y, ymin, ymax)) / (ymax-ymin)"
   ]
  },
  {
   "cell_type": "code",
   "execution_count": 16,
   "id": "7cbcc72d",
   "metadata": {},
   "outputs": [
    {
     "data": {
      "text/plain": [
       "(1.1*y, 0.11*x)"
      ]
     },
     "execution_count": 16,
     "metadata": {},
     "output_type": "execute_result"
    }
   ],
   "source": [
    "m_Polyx_x, m_Polyx_y"
   ]
  },
  {
   "cell_type": "code",
   "execution_count": 17,
   "id": "3d516737",
   "metadata": {},
   "outputs": [
    {
     "data": {
      "text/latex": [
       "$\\displaystyle 0.0225 \\left(- x y + 0.733333333333333 x\\right)^{2}$"
      ],
      "text/plain": [
       "0.0225*(-x*y + 0.733333333333333*x)**2"
      ]
     },
     "execution_count": 17,
     "metadata": {},
     "output_type": "execute_result"
    }
   ],
   "source": [
    "(Polyx - m_Polyx_x)**2"
   ]
  },
  {
   "cell_type": "code",
   "execution_count": 18,
   "id": "71fab584",
   "metadata": {},
   "outputs": [],
   "source": [
    "Causal_Polyx_x = integrate((Polyx - m_Polyx_x)**2, \n",
    "                          (x, xmin, xmax),\n",
    "                           (y, ymin, ymax))\n",
    "Causal_Polyx_y = integrate((Polyx - m_Polyx_y)**2, \n",
    "                          (x, xmin, xmax),\n",
    "                           (y, ymin, ymax))"
   ]
  },
  {
   "cell_type": "code",
   "execution_count": 19,
   "id": "03e5153a",
   "metadata": {},
   "outputs": [
    {
     "name": "stdout",
     "output_type": "stream",
     "text": [
      "5.63626666666667 211.626666666667\n"
     ]
    }
   ],
   "source": [
    "print(Causal_Polyx_x, Causal_Polyx_y)"
   ]
  },
  {
   "cell_type": "code",
   "execution_count": 20,
   "id": "f7bff1f4",
   "metadata": {},
   "outputs": [
    {
     "data": {
      "text/plain": [
       "32"
      ]
     },
     "execution_count": 20,
     "metadata": {},
     "output_type": "execute_result"
    }
   ],
   "source": [
    "(xmax-xmin)*(ymax-ymin)"
   ]
  },
  {
   "cell_type": "markdown",
   "id": "cf6df8af",
   "metadata": {},
   "source": [
    "### And for dy/dt"
   ]
  },
  {
   "cell_type": "code",
   "execution_count": 21,
   "id": "a5b52247",
   "metadata": {},
   "outputs": [
    {
     "name": "stdout",
     "output_type": "stream",
     "text": [
      "       2                    2        \n",
      "- 2.1⋅x ⋅y - 0.95⋅x + 0.12⋅y  + 1.9⋅y\n"
     ]
    }
   ],
   "source": [
    "Polyy = GetPoly(Poly, sigma_y)\n",
    "pprint(Polyy)\n",
    "m_Polyy_x =  integrate(Polyy, # maringalised over x\n",
    "                      (x, xmin, xmax)) / (xmax-xmin)\n",
    "m_Polyy_y =  integrate(Polyy, # maringalised over y\n",
    "                      (y, ymin, ymax)) / (ymax-ymin)"
   ]
  },
  {
   "cell_type": "code",
   "execution_count": 22,
   "id": "f2ed5f4b",
   "metadata": {},
   "outputs": [],
   "source": [
    "Causal_Polyy_x = integrate((Polyy - m_Polyy_x)**2, \n",
    "                          (x, xmin, xmax),\n",
    "                           (y, ymin, ymax))\n",
    "Causal_Polyy_y = integrate((Polyy - m_Polyy_y)**2, \n",
    "                          (x, xmin, xmax),\n",
    "                           (y, ymin, ymax))"
   ]
  },
  {
   "cell_type": "code",
   "execution_count": 24,
   "id": "5a14e56a",
   "metadata": {},
   "outputs": [
    {
     "name": "stdout",
     "output_type": "stream",
     "text": [
      "1108.92800000000 1219.14709333333\n"
     ]
    }
   ],
   "source": [
    "print(Causal_Polyy_x, Causal_Polyy_y)"
   ]
  },
  {
   "cell_type": "code",
   "execution_count": 45,
   "id": "dee50bcf",
   "metadata": {},
   "outputs": [
    {
     "name": "stdout",
     "output_type": "stream",
     "text": [
      "<class 'list'> 3\n"
     ]
    },
    {
     "data": {
      "text/plain": [
       "[-1, 1]"
      ]
     },
     "execution_count": 45,
     "metadata": {},
     "output_type": "execute_result"
    }
   ],
   "source": [
    "r = list([[-1,1], [-2,2], [0,1]])\n",
    "print(type(r), len(r))\n",
    "r[0]"
   ]
  },
  {
   "cell_type": "markdown",
   "id": "bc6094e6",
   "metadata": {},
   "source": [
    "## turn it into a function"
   ]
  },
  {
   "cell_type": "code",
   "execution_count": 54,
   "id": "e8c43e93",
   "metadata": {},
   "outputs": [
    {
     "data": {
      "text/latex": [
       "$\\displaystyle - 0.15 x y + 0.11 x + 1.1 y$"
      ],
      "text/plain": [
       "-0.15*x*y + 0.11*x + 1.1*y"
      ]
     },
     "execution_count": 54,
     "metadata": {},
     "output_type": "execute_result"
    }
   ],
   "source": [
    "GetPoly(symbols(\"x y\"), sigma_x)"
   ]
  },
  {
   "cell_type": "code",
   "execution_count": 124,
   "id": "9c8258fc",
   "metadata": {},
   "outputs": [],
   "source": [
    "def CheckInfluences(Function, ranges, names ):\n",
    "    # Takes sympy Function with definition volume defined by ranges = list [[x0min, x0max],[x1min,x1max],...]\n",
    "        # optional: names = list of sympy symbols of the variable names\n",
    "    # returns the Causal Integral for marginalising over x0, for x1, for x2, ...\n",
    "    Dimen = len(ranges)\n",
    "    Output = pd.DataFrame({\"Variable\":(),\n",
    "                           \"Influence\":()})\n",
    "        \n",
    "    for i in range(Dimen):\n",
    "        \n",
    "        Marginal = (ranges[i][1]-ranges[i][0])**(-1)* integrate(Function, \n",
    "                                                                (names[i], \n",
    "                                                                 ranges[i][0], \n",
    "                                                                 ranges[i][1]) )\n",
    "        \n",
    "        Integrand = (Marginal - Function)**2\n",
    "        \n",
    "        for j in range(Dimen):\n",
    "            Integrand = integrate(Integrand, \n",
    "                                  (names[j],\n",
    "                                   ranges[j][0], \n",
    "                                   ranges[j][1]))\n",
    "        \n",
    "        Name = names[i]\n",
    "        \n",
    "        Output = Output.append(pd.DataFrame({\"Variable\": [names[i]],\n",
    "                                            \"Influence\": [Integrand]}),\n",
    "                              ignore_index=True)\n",
    "    return(Output)"
   ]
  },
  {
   "cell_type": "code",
   "execution_count": 125,
   "id": "420afec5",
   "metadata": {},
   "outputs": [
    {
     "data": {
      "text/plain": [
       "'y'"
      ]
     },
     "execution_count": 125,
     "metadata": {},
     "output_type": "execute_result"
    }
   ],
   "source": [
    "str(symbols(\"x y\")[1])"
   ]
  },
  {
   "cell_type": "code",
   "execution_count": 126,
   "id": "1b9d44d0",
   "metadata": {},
   "outputs": [
    {
     "data": {
      "text/html": [
       "<div>\n",
       "<style scoped>\n",
       "    .dataframe tbody tr th:only-of-type {\n",
       "        vertical-align: middle;\n",
       "    }\n",
       "\n",
       "    .dataframe tbody tr th {\n",
       "        vertical-align: top;\n",
       "    }\n",
       "\n",
       "    .dataframe thead th {\n",
       "        text-align: right;\n",
       "    }\n",
       "</style>\n",
       "<table border=\"1\" class=\"dataframe\">\n",
       "  <thead>\n",
       "    <tr style=\"text-align: right;\">\n",
       "      <th></th>\n",
       "      <th>Variable</th>\n",
       "      <th>Influence</th>\n",
       "    </tr>\n",
       "  </thead>\n",
       "  <tbody>\n",
       "    <tr>\n",
       "      <th>0</th>\n",
       "      <td>x</td>\n",
       "      <td>5.63626666666667</td>\n",
       "    </tr>\n",
       "    <tr>\n",
       "      <th>1</th>\n",
       "      <td>y</td>\n",
       "      <td>211.626666666667</td>\n",
       "    </tr>\n",
       "  </tbody>\n",
       "</table>\n",
       "</div>"
      ],
      "text/plain": [
       "  Variable         Influence\n",
       "0        x  5.63626666666667\n",
       "1        y  211.626666666667"
      ]
     },
     "execution_count": 126,
     "metadata": {},
     "output_type": "execute_result"
    }
   ],
   "source": [
    "CheckInfluences(GetPoly(symbols(\"x y\"), sigma_x), \n",
    "               [[xmin, xmax], [ymin, ymax]],\n",
    "               symbols(\"x y\"))"
   ]
  },
  {
   "cell_type": "code",
   "execution_count": 127,
   "id": "4d42272b",
   "metadata": {},
   "outputs": [
    {
     "data": {
      "text/html": [
       "<div>\n",
       "<style scoped>\n",
       "    .dataframe tbody tr th:only-of-type {\n",
       "        vertical-align: middle;\n",
       "    }\n",
       "\n",
       "    .dataframe tbody tr th {\n",
       "        vertical-align: top;\n",
       "    }\n",
       "\n",
       "    .dataframe thead th {\n",
       "        text-align: right;\n",
       "    }\n",
       "</style>\n",
       "<table border=\"1\" class=\"dataframe\">\n",
       "  <thead>\n",
       "    <tr style=\"text-align: right;\">\n",
       "      <th></th>\n",
       "      <th>Variable</th>\n",
       "      <th>Influence</th>\n",
       "    </tr>\n",
       "  </thead>\n",
       "  <tbody>\n",
       "    <tr>\n",
       "      <th>0</th>\n",
       "      <td>x</td>\n",
       "      <td>1108.92800000000</td>\n",
       "    </tr>\n",
       "    <tr>\n",
       "      <th>1</th>\n",
       "      <td>y</td>\n",
       "      <td>1219.14709333333</td>\n",
       "    </tr>\n",
       "  </tbody>\n",
       "</table>\n",
       "</div>"
      ],
      "text/plain": [
       "  Variable         Influence\n",
       "0        x  1108.92800000000\n",
       "1        y  1219.14709333333"
      ]
     },
     "execution_count": 127,
     "metadata": {},
     "output_type": "execute_result"
    }
   ],
   "source": [
    "CheckInfluences(GetPoly(symbols(\"x y\"), sigma_y), \n",
    "               [[xmin, xmax], [ymin, ymax]],\n",
    "               symbols(\"x y\"))"
   ]
  }
 ],
 "metadata": {
  "kernelspec": {
   "display_name": "Python 3 (ipykernel)",
   "language": "python",
   "name": "python3"
  },
  "language_info": {
   "codemirror_mode": {
    "name": "ipython",
    "version": 3
   },
   "file_extension": ".py",
   "mimetype": "text/x-python",
   "name": "python",
   "nbconvert_exporter": "python",
   "pygments_lexer": "ipython3",
   "version": "3.7.3"
  }
 },
 "nbformat": 4,
 "nbformat_minor": 5
}
